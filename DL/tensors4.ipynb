{
 "cells": [
  {
   "cell_type": "code",
   "execution_count": 3,
   "id": "35f29d7f",
   "metadata": {},
   "outputs": [],
   "source": [
    "import torch"
   ]
  },
  {
   "cell_type": "code",
   "execution_count": 4,
   "id": "ca74f1f7",
   "metadata": {},
   "outputs": [
    {
     "data": {
      "text/plain": [
       "tensor([ 1.,  8., 27.])"
      ]
     },
     "execution_count": 4,
     "metadata": {},
     "output_type": "execute_result"
    }
   ],
   "source": [
    "a = torch.tensor([1, 2, 3], dtype=torch.float32)\n",
    "a ** 3"
   ]
  },
  {
   "cell_type": "code",
   "execution_count": 5,
   "id": "8a742bcb",
   "metadata": {},
   "outputs": [
    {
     "data": {
      "text/plain": [
       "tensor([  1.,  16., 243.])"
      ]
     },
     "execution_count": 5,
     "metadata": {},
     "output_type": "execute_result"
    }
   ],
   "source": [
    "b = torch.tensor([3, 4, 5], dtype=torch.int32)\n",
    "a ** b"
   ]
  },
  {
   "cell_type": "code",
   "execution_count": 6,
   "id": "4321fc58",
   "metadata": {},
   "outputs": [
    {
     "data": {
      "text/plain": [
       "tensor([[[ 0.,  1.],\n",
       "         [ 2.,  3.],\n",
       "         [ 4.,  5.]],\n",
       "\n",
       "        [[ 6.,  7.],\n",
       "         [ 8.,  9.],\n",
       "         [10., 11.]],\n",
       "\n",
       "        [[12., 13.],\n",
       "         [14., 15.],\n",
       "         [16., 17.]]])"
      ]
     },
     "execution_count": 6,
     "metadata": {},
     "output_type": "execute_result"
    }
   ],
   "source": [
    "a = torch.arange(1, 19).reshape(3, 3, 2)\n",
    "b = torch.ones(3, 2)\n",
    "a - b"
   ]
  },
  {
   "cell_type": "code",
   "execution_count": 7,
   "id": "6fe545b1",
   "metadata": {},
   "outputs": [
    {
     "data": {
      "text/plain": [
       "tensor(11.7303)"
      ]
     },
     "execution_count": 7,
     "metadata": {},
     "output_type": "execute_result"
    }
   ],
   "source": [
    "a = torch.tensor([1, 2, 3, 10, 20, 30], dtype=torch.float32)\n",
    "a.std()"
   ]
  },
  {
   "cell_type": "code",
   "execution_count": 8,
   "id": "fbe646cb",
   "metadata": {},
   "outputs": [],
   "source": [
    "tensor = torch.arange(15).reshape(3, 5) + torch.randn(3, 5)\n",
    "#torch.abs(tensor) - модуль от элементов тензора \n",
    "#torch.amax(tensor) - максимальное значение в тензоре\n",
    "#torch.amin(tensor) - минимальное значение в тензоре\n",
    "#torch.argmax(tensor) - индекс максимального знаечния в тензоре \n",
    "#torch.argmin(tensor) - индекс минимального значения в тензоре\n",
    "#torch.round(tensor) - округление элементов до ближайшего целого значения \n",
    "#torch.mean(tensor) - среднее значение тензора\n",
    "#torch.log(tensor) - натуральный логарифм элементов тензора\n",
    "#torch.log2(tensor) - логарифм по основанию 2\n",
    "#torch.log10(tensor) - логарифм по основанию 10\n"
   ]
  },
  {
   "cell_type": "code",
   "execution_count": 9,
   "id": "2b41c2ff",
   "metadata": {},
   "outputs": [
    {
     "data": {
      "text/plain": [
       "tensor([[3.8109, 4.2845, 1.7986],\n",
       "        [4.2845, 7.5062, 3.0108],\n",
       "        [1.7986, 3.0108, 1.7498]])"
      ]
     },
     "execution_count": 9,
     "metadata": {},
     "output_type": "execute_result"
    }
   ],
   "source": [
    "#torch.median(tensor) - медиана тензора\n",
    "#torch.var(tensor) - дисперсия значений тензора\n",
    "#torch.std(tensor) - стандартное отклонение значений тензора\n",
    "#torch.corrcoef(tensor) - линейный коэффициент корреляции Пирсона\n",
    "#torch.cov(tensor) - ковариация \n",
    "tensor.cov()"
   ]
  },
  {
   "cell_type": "code",
   "execution_count": null,
   "id": "aa9910e6",
   "metadata": {},
   "outputs": [
    {
     "data": {
      "text/plain": [
       "tensor([[-0.6202, -0.5515, -0.8083],\n",
       "        [ 0.5004, -1.1143, -0.9713],\n",
       "        [-0.8713, -1.5936,  1.7474]])"
      ]
     },
     "execution_count": 13,
     "metadata": {},
     "output_type": "execute_result"
    }
   ],
   "source": [
    "a = torch.randn(3, 3)\n",
    "b = torch.randn(3, 3)\n",
    "c = a @ b\n",
    "c"
   ]
  },
  {
   "cell_type": "code",
   "execution_count": null,
   "id": "b04247ef",
   "metadata": {},
   "outputs": [
    {
     "ename": "RuntimeError",
     "evalue": "batch1 must be a 3D tensor",
     "output_type": "error",
     "traceback": [
      "\u001b[31m---------------------------------------------------------------------------\u001b[39m",
      "\u001b[31mRuntimeError\u001b[39m                              Traceback (most recent call last)",
      "\u001b[36mCell\u001b[39m\u001b[36m \u001b[39m\u001b[32mIn[15]\u001b[39m\u001b[32m, line 3\u001b[39m\n\u001b[32m      1\u001b[39m bx = torch.rand(\u001b[32m3\u001b[39m, \u001b[32m7\u001b[39m, \u001b[32m3\u001b[39m, \u001b[32m5\u001b[39m)\n\u001b[32m      2\u001b[39m by = torch.randn(\u001b[32m3\u001b[39m, \u001b[32m7\u001b[39m, \u001b[32m5\u001b[39m, \u001b[32m4\u001b[39m)\n\u001b[32m----> \u001b[39m\u001b[32m3\u001b[39m bc = \u001b[43mtorch\u001b[49m\u001b[43m.\u001b[49m\u001b[43mbmm\u001b[49m\u001b[43m(\u001b[49m\u001b[43mbx\u001b[49m\u001b[43m,\u001b[49m\u001b[43m \u001b[49m\u001b[43mby\u001b[49m\u001b[43m)\u001b[49m\n\u001b[32m      4\u001b[39m bc\n",
      "\u001b[31mRuntimeError\u001b[39m: batch1 must be a 3D tensor"
     ]
    }
   ],
   "source": [
    "bx = torch.rand(7, 3, 5)\n",
    "by = torch.randn(7, 5, 4)\n",
    "bc = torch.bmm(bx, by)\n",
    "bc"
   ]
  }
 ],
 "metadata": {
  "kernelspec": {
   "display_name": "Python-Learn",
   "language": "python",
   "name": "python3"
  },
  "language_info": {
   "codemirror_mode": {
    "name": "ipython",
    "version": 3
   },
   "file_extension": ".py",
   "mimetype": "text/x-python",
   "name": "python",
   "nbconvert_exporter": "python",
   "pygments_lexer": "ipython3",
   "version": "3.12.8"
  }
 },
 "nbformat": 4,
 "nbformat_minor": 5
}
