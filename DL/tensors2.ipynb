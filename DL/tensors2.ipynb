{
 "cells": [
  {
   "cell_type": "code",
   "execution_count": null,
   "id": "4ca60a9e",
   "metadata": {},
   "outputs": [
    {
     "data": {
      "text/plain": [
       "tensor([[0., 0., 0.],\n",
       "        [0., 0., 0.]])"
      ]
     },
     "execution_count": 2,
     "metadata": {},
     "output_type": "execute_result"
    }
   ],
   "source": [
    "import torch\n",
    "tz = torch.zeros(2, 3) #Заполнение нулями\n",
    "tz"
   ]
  },
  {
   "cell_type": "code",
   "execution_count": null,
   "id": "4f27aab8",
   "metadata": {},
   "outputs": [
    {
     "data": {
      "text/plain": [
       "tensor([[1., 1., 1.],\n",
       "        [1., 1., 1.]])"
      ]
     },
     "execution_count": 3,
     "metadata": {},
     "output_type": "execute_result"
    }
   ],
   "source": [
    "t = torch.ones(2, 3) #Заполнение единицами\n",
    "t"
   ]
  },
  {
   "cell_type": "code",
   "execution_count": null,
   "id": "ce12b57b",
   "metadata": {},
   "outputs": [
    {
     "data": {
      "text/plain": [
       "tensor([[1., 0., 0.],\n",
       "        [0., 1., 0.],\n",
       "        [0., 0., 1.]])"
      ]
     },
     "execution_count": 4,
     "metadata": {},
     "output_type": "execute_result"
    }
   ],
   "source": [
    "torch.eye(3) #Единичная матрица 3х3"
   ]
  },
  {
   "cell_type": "code",
   "execution_count": null,
   "id": "618f85d8",
   "metadata": {},
   "outputs": [
    {
     "data": {
      "text/plain": [
       "tensor([[1., 0., 0., 0., 0.],\n",
       "        [0., 1., 0., 0., 0.]])"
      ]
     },
     "execution_count": 5,
     "metadata": {},
     "output_type": "execute_result"
    }
   ],
   "source": [
    "torch.eye(2, 5) #Единичная матрица 2х5"
   ]
  },
  {
   "cell_type": "code",
   "execution_count": null,
   "id": "0e126b8e",
   "metadata": {},
   "outputs": [
    {
     "data": {
      "text/plain": [
       "tensor([[5, 5, 5, 5],\n",
       "        [5, 5, 5, 5]])"
      ]
     },
     "execution_count": 7,
     "metadata": {},
     "output_type": "execute_result"
    }
   ],
   "source": [
    "torch.full((2, 4), 5) #Заполнение матрицы 2х4 значением 5"
   ]
  },
  {
   "cell_type": "code",
   "execution_count": null,
   "id": "ca91e0f8",
   "metadata": {},
   "outputs": [
    {
     "data": {
      "text/plain": [
       "tensor([0, 1, 2, 3, 4, 5, 6, 7, 8, 9])"
      ]
     },
     "execution_count": 9,
     "metadata": {},
     "output_type": "execute_result"
    }
   ],
   "source": [
    "torch.arange(10) #Заполнение тензора значениями от 0 до value"
   ]
  },
  {
   "cell_type": "code",
   "execution_count": null,
   "id": "31ba11b6",
   "metadata": {},
   "outputs": [
    {
     "data": {
      "text/plain": [
       "tensor([2.0000, 1.9000, 1.8000, 1.7000, 1.6000, 1.5000, 1.4000, 1.3000, 1.2000,\n",
       "        1.1000, 1.0000, 0.9000, 0.8000, 0.7000, 0.6000, 0.5000, 0.4000, 0.3000,\n",
       "        0.2000, 0.1000])"
      ]
     },
     "execution_count": 12,
     "metadata": {},
     "output_type": "execute_result"
    }
   ],
   "source": [
    "torch.arange(2, 0, -0.1) #Заполнение тензора значениями от l_value до r_value с шагом step"
   ]
  },
  {
   "cell_type": "code",
   "execution_count": null,
   "id": "1cb19917",
   "metadata": {},
   "outputs": [
    {
     "data": {
      "text/plain": [
       "tensor([1.0000, 1.5000, 2.0000, 2.5000, 3.0000, 3.5000, 4.0000, 4.5000, 5.0000])"
      ]
     },
     "execution_count": 16,
     "metadata": {},
     "output_type": "execute_result"
    }
   ],
   "source": [
    "torch.linspace(1, 5, 9) #Заполнение тензора значениями, соответствующим равным разделениям диапазона на value частей"
   ]
  },
  {
   "cell_type": "code",
   "execution_count": null,
   "id": "c487dbe1",
   "metadata": {},
   "outputs": [
    {
     "data": {
      "text/plain": [
       "tensor([[0.4439, 0.9830, 0.8461],\n",
       "        [0.2026, 0.6910, 0.9496]])"
      ]
     },
     "execution_count": 17,
     "metadata": {},
     "output_type": "execute_result"
    }
   ],
   "source": [
    "torch.rand(2, 3) #Заполнение тензора значениями [0; 1] равномерного распределения "
   ]
  },
  {
   "cell_type": "code",
   "execution_count": 24,
   "id": "3da40263",
   "metadata": {},
   "outputs": [
    {
     "data": {
      "text/plain": [
       "tensor([[ 0.4696,  0.5538,  0.7766],\n",
       "        [-0.3151,  1.0686,  2.3855]])"
      ]
     },
     "execution_count": 24,
     "metadata": {},
     "output_type": "execute_result"
    }
   ],
   "source": [
    "torch.randn(2, 3) #Заполнение тензора значениями из нормального распределения с нулевым средним и единичной дисперсией"
   ]
  },
  {
   "cell_type": "code",
   "execution_count": null,
   "id": "c900c309",
   "metadata": {},
   "outputs": [
    {
     "data": {
      "text/plain": [
       "tensor([[ 0.3367,  0.1288,  0.2345],\n",
       "        [ 0.2303, -1.1229, -0.1863]])"
      ]
     },
     "execution_count": 26,
     "metadata": {},
     "output_type": "execute_result"
    }
   ],
   "source": [
    "torch.manual_seed(42) #Псевдо-рандом\n",
    "torch.randn(2, 3)"
   ]
  },
  {
   "cell_type": "code",
   "execution_count": null,
   "id": "e848c07c",
   "metadata": {},
   "outputs": [
    {
     "data": {
      "text/plain": [
       "tensor([[1., 1., 1., 1.],\n",
       "        [1., 1., 1., 1.]])"
      ]
     },
     "execution_count": 31,
     "metadata": {},
     "output_type": "execute_result"
    }
   ],
   "source": [
    "#name_ - inplace(mutable) метод изменяет текущий тензор, не создавая нового\n",
    "#name - immutable метод не меняет текущий тензор, а создаёт новый\n",
    "x = torch.FloatTensor(2, 4)\n",
    "x.fill_(1)\n"
   ]
  },
  {
   "cell_type": "code",
   "execution_count": null,
   "id": "b52aabd6",
   "metadata": {},
   "outputs": [
    {
     "data": {
      "text/plain": [
       "tensor([[[-0.7360, -0.8371, -0.9224],\n",
       "         [ 1.8113,  0.1606,  0.3672],\n",
       "         [ 0.1754,  1.3852,  1.3835]],\n",
       "\n",
       "        [[-1.2024,  0.7078, -1.3407],\n",
       "         [-0.5854,  0.5362,  0.5246],\n",
       "         [ 1.1412,  0.0516,  0.7281]],\n",
       "\n",
       "        [[-0.7106, -1.0495,  0.6039],\n",
       "         [-1.7223, -0.8278,  1.3347],\n",
       "         [ 0.4835, -0.1976,  1.2683]]])"
      ]
     },
     "execution_count": 39,
     "metadata": {},
     "output_type": "execute_result"
    }
   ],
   "source": [
    "\n",
    "#Представления тензоров \n",
    "#reshape = view\n",
    "t = torch.randn(27)\n",
    "t = t.reshape(3, 3, 3)\n",
    "t"
   ]
  },
  {
   "cell_type": "code",
   "execution_count": null,
   "id": "ec9f06b6",
   "metadata": {},
   "outputs": [
    {
     "data": {
      "text/plain": [
       "tensor([[-0.7360, -0.8371, -0.9224,  1.8113,  0.1606,  0.3672],\n",
       "        [ 0.1754,  1.3852,  1.3835, -1.2024,  0.7078, -1.3407]])"
      ]
     },
     "execution_count": 41,
     "metadata": {},
     "output_type": "execute_result"
    }
   ],
   "source": [
    "#Изменяет размер тензора\n",
    "t.resize_(2, 6)"
   ]
  },
  {
   "cell_type": "code",
   "execution_count": null,
   "id": "385cf68e",
   "metadata": {},
   "outputs": [
    {
     "data": {
      "text/plain": [
       "tensor([-0.7360, -0.8371, -0.9224,  1.8113,  0.1606,  0.3672,  0.1754,  1.3852,\n",
       "         1.3835, -1.2024,  0.7078, -1.3407])"
      ]
     },
     "execution_count": 42,
     "metadata": {},
     "output_type": "execute_result"
    }
   ],
   "source": [
    "#Тензор в вектор\n",
    "t.ravel()"
   ]
  },
  {
   "cell_type": "code",
   "execution_count": null,
   "id": "8a1b6cd7",
   "metadata": {},
   "outputs": [
    {
     "data": {
      "text/plain": [
       "tensor([[-0.7360,  0.1754],\n",
       "        [-0.8371,  1.3852],\n",
       "        [-0.9224,  1.3835],\n",
       "        [ 1.8113, -1.2024],\n",
       "        [ 0.1606,  0.7078],\n",
       "        [ 0.3672, -1.3407]])"
      ]
     },
     "execution_count": 44,
     "metadata": {},
     "output_type": "execute_result"
    }
   ],
   "source": [
    "#Меняет оси местами(что-то по типу транспонирования)\n",
    "t.permute(1, 0)"
   ]
  },
  {
   "cell_type": "code",
   "execution_count": null,
   "id": "5405c75c",
   "metadata": {},
   "outputs": [
    {
     "data": {
      "text/plain": [
       "tensor([[-0.7360,  0.1754],\n",
       "        [-0.8371,  1.3852],\n",
       "        [-0.9224,  1.3835],\n",
       "        [ 1.8113, -1.2024],\n",
       "        [ 0.1606,  0.7078],\n",
       "        [ 0.3672, -1.3407]])"
      ]
     },
     "execution_count": 45,
     "metadata": {},
     "output_type": "execute_result"
    }
   ],
   "source": [
    "#Траспонирование\n",
    "t.mT"
   ]
  },
  {
   "cell_type": "code",
   "execution_count": 54,
   "id": "d9d49629",
   "metadata": {},
   "outputs": [
    {
     "data": {
      "text/plain": [
       "torch.Size([8, 2, 2])"
      ]
     },
     "execution_count": 54,
     "metadata": {},
     "output_type": "execute_result"
    }
   ],
   "source": [
    "x_test = torch.arange(32).view(8, 2, 2)\n",
    "x_test.shape"
   ]
  },
  {
   "cell_type": "code",
   "execution_count": null,
   "id": "af7cc830",
   "metadata": {},
   "outputs": [
    {
     "data": {
      "text/plain": [
       "torch.Size([1, 8, 2, 2])"
      ]
     },
     "execution_count": 57,
     "metadata": {},
     "output_type": "execute_result"
    }
   ],
   "source": [
    "#unsqueeze - добавление оси\n",
    "x_test = torch.unsqueeze(x_test, dim = 0)\n",
    "x_test.shape"
   ]
  },
  {
   "cell_type": "code",
   "execution_count": 59,
   "id": "f0f8cb04",
   "metadata": {},
   "outputs": [
    {
     "data": {
      "text/plain": [
       "torch.Size([8, 2, 2])"
      ]
     },
     "execution_count": 59,
     "metadata": {},
     "output_type": "execute_result"
    }
   ],
   "source": [
    "x_test = torch.squeeze(x_test)\n",
    "x_test.shape"
   ]
  }
 ],
 "metadata": {
  "kernelspec": {
   "display_name": "Python-Learn",
   "language": "python",
   "name": "python3"
  },
  "language_info": {
   "codemirror_mode": {
    "name": "ipython",
    "version": 3
   },
   "file_extension": ".py",
   "mimetype": "text/x-python",
   "name": "python",
   "nbconvert_exporter": "python",
   "pygments_lexer": "ipython3",
   "version": "3.12.8"
  }
 },
 "nbformat": 4,
 "nbformat_minor": 5
}
