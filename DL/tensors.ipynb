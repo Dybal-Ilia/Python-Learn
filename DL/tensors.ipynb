{
 "cells": [
  {
   "cell_type": "code",
   "execution_count": 21,
   "id": "9f05df19",
   "metadata": {},
   "outputs": [
    {
     "data": {
      "text/plain": [
       "torch.float32"
      ]
     },
     "execution_count": 21,
     "metadata": {},
     "output_type": "execute_result"
    }
   ],
   "source": [
    "import torch\n",
    "t = torch.empty(3, 5, 2)\n",
    "t.dtype"
   ]
  },
  {
   "cell_type": "code",
   "execution_count": 22,
   "id": "5590a044",
   "metadata": {},
   "outputs": [
    {
     "data": {
      "text/plain": [
       "tensor([1, 2, 3])"
      ]
     },
     "execution_count": 22,
     "metadata": {},
     "output_type": "execute_result"
    }
   ],
   "source": [
    "t_new = torch.tensor([1, 2, 3])\n",
    "t_new"
   ]
  },
  {
   "cell_type": "code",
   "execution_count": 30,
   "id": "88758e35",
   "metadata": {},
   "outputs": [
    {
     "data": {
      "text/plain": [
       "torch.Size([1, 2, 3])"
      ]
     },
     "execution_count": 30,
     "metadata": {},
     "output_type": "execute_result"
    }
   ],
   "source": [
    "d = [[[1, 2, 3], [4, 5, 6]]]\n",
    "t = torch.tensor(d, dtype=torch.float32)\n",
    "t.shape\n"
   ]
  },
  {
   "cell_type": "code",
   "execution_count": 36,
   "id": "72e960c4",
   "metadata": {},
   "outputs": [],
   "source": [
    "import numpy as np\n",
    "\n",
    "d_np = np.array([[1, 2, 3], [4, 5, 6]])\n",
    "d_torch = torch.from_numpy(d_np) #не создаёт копию а работает с теми же объектами что и d_np\n",
    "#d_torch = torch.tensor(d_np, dtype = torch.float32) -> создаёт копию и является независимым\n",
    "d = d_torch.numpy().copy() #из PyTorch обратно в numpy"
   ]
  },
  {
   "cell_type": "code",
   "execution_count": 38,
   "id": "9900863b",
   "metadata": {},
   "outputs": [
    {
     "data": {
      "text/plain": [
       "torch.float32"
      ]
     },
     "execution_count": 38,
     "metadata": {},
     "output_type": "execute_result"
    }
   ],
   "source": [
    "d_torch = d_torch.float()\n",
    "d_torch.dtype"
   ]
  }
 ],
 "metadata": {
  "kernelspec": {
   "display_name": "Python-Learn",
   "language": "python",
   "name": "python3"
  },
  "language_info": {
   "codemirror_mode": {
    "name": "ipython",
    "version": 3
   },
   "file_extension": ".py",
   "mimetype": "text/x-python",
   "name": "python",
   "nbconvert_exporter": "python",
   "pygments_lexer": "ipython3",
   "version": "3.12.8"
  }
 },
 "nbformat": 4,
 "nbformat_minor": 5
}
